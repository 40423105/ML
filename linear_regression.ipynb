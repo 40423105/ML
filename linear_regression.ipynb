{
  "nbformat": 4,
  "nbformat_minor": 0,
  "metadata": {
    "colab": {
      "name": "linear_regression.ipynb",
      "provenance": [],
      "authorship_tag": "ABX9TyNkWQawxWNWHjomeJ7CQsas",
      "include_colab_link": true
    },
    "kernelspec": {
      "name": "python3",
      "display_name": "Python 3"
    },
    "language_info": {
      "name": "python"
    }
  },
  "cells": [
    {
      "cell_type": "markdown",
      "metadata": {
        "id": "view-in-github",
        "colab_type": "text"
      },
      "source": [
        "<a href=\"https://colab.research.google.com/github/40423105/ML/blob/main/linear_regression.ipynb\" target=\"_parent\"><img src=\"https://colab.research.google.com/assets/colab-badge.svg\" alt=\"Open In Colab\"/></a>"
      ]
    },
    {
      "cell_type": "code",
      "execution_count": 15,
      "metadata": {
        "id": "THCSGTShpB3j"
      },
      "outputs": [],
      "source": [
        "import tensorflow as tf\n",
        "import numpy as np\n",
        "import matplotlib.pyplot as plt"
      ]
    },
    {
      "cell_type": "code",
      "source": [
        "# Parameters.\n",
        "learning_rate = 0.1\n",
        "training_steps = 1000\n",
        "display_step = 100\n",
        "n_samples = 50\n",
        "\n",
        "x = np.random.rand(n_samples).astype(np.float32)\n",
        "y = x * 10 + 5\n",
        "w = tf.Variable(tf.random.normal([1]))\n",
        "b = tf.Variable(tf.zeros([1]))"
      ],
      "metadata": {
        "id": "JCTxBdKc3Pdg"
      },
      "execution_count": 3,
      "outputs": []
    },
    {
      "cell_type": "code",
      "source": [
        "def linear_regression(x):\n",
        "  return w * x + b\n",
        "\n",
        "def mean_square(y_pred, y_true):\n",
        "  return tf.reduce_sum(tf.pow(y_pred - y_true, 2)) / (2 * n_samples)\n",
        "\n",
        "optimizer = tf.optimizers.SGD(learning_rate)"
      ],
      "metadata": {
        "id": "aMDWSVLj3X7w"
      },
      "execution_count": 11,
      "outputs": []
    },
    {
      "cell_type": "code",
      "source": [
        "def run_optimization():\n",
        "  with tf.GradientTape() as g:\n",
        "    pred = linear_regression(x)\n",
        "    loss = mean_square(pred , y)\n",
        "\n",
        "  gradients = g.gradient(loss, [w, b])\n",
        "  optimizer.apply_gradients(zip(gradients, [w,b]))"
      ],
      "metadata": {
        "id": "1eZxGOcw4EGg"
      },
      "execution_count": 12,
      "outputs": []
    },
    {
      "cell_type": "code",
      "source": [
        "for step in range(1, training_steps + 1):\n",
        "  run_optimization()\n",
        "\n",
        "  if step % display_step == 0:\n",
        "    pred = linear_regression(x)\n",
        "    loss = mean_square(pred, y)\n",
        "    print(\"step: %i, loss: %f, W: %f, b:%f\" % (step, loss, w.numpy(), b.numpy()))"
      ],
      "metadata": {
        "colab": {
          "base_uri": "https://localhost:8080/"
        },
        "id": "-qCNDR7A45JA",
        "outputId": "5d1ce60d-5a58-4131-e4c7-b0e86520a041"
      },
      "execution_count": 13,
      "outputs": [
        {
          "output_type": "stream",
          "name": "stdout",
          "text": [
            "step: 100, loss: 0.419537, W: 6.478395, b:6.729780\n",
            "step: 200, loss: 0.140615, W: 7.961216, b:6.001443\n",
            "step: 300, loss: 0.047130, W: 8.819674, b:5.579771\n",
            "step: 400, loss: 0.015796, W: 9.316666, b:5.335651\n",
            "step: 500, loss: 0.005294, W: 9.604392, b:5.194321\n",
            "step: 600, loss: 0.001775, W: 9.770967, b:5.112501\n",
            "step: 700, loss: 0.000595, W: 9.867405, b:5.065130\n",
            "step: 800, loss: 0.000199, W: 9.923233, b:5.037707\n",
            "step: 900, loss: 0.000067, W: 9.955556, b:5.021831\n",
            "step: 1000, loss: 0.000022, W: 9.974269, b:5.012640\n"
          ]
        }
      ]
    },
    {
      "cell_type": "code",
      "source": [
        "plt.plot(x, y, 'ro', label = 'Original data')\n",
        "plt.plot(x, np.array(w * x + b), label = 'Fitted line')\n",
        "plt.legend()\n",
        "plt.show()"
      ],
      "metadata": {
        "colab": {
          "base_uri": "https://localhost:8080/",
          "height": 265
        },
        "id": "RTu-SyxO8C1w",
        "outputId": "f1a71b45-48c6-40f7-fdee-3fbb4c19d2e2"
      },
      "execution_count": 16,
      "outputs": [
        {
          "output_type": "display_data",
          "data": {
            "text/plain": [
              "<Figure size 432x288 with 1 Axes>"
            ],
            "image/png": "[encoded data removed]"
          },
          "metadata": {
            "needs_background": "light"
          }
        }
      ]
    },
    {
      "cell_type": "code",
      "source": [
        ""
      ],
      "metadata": {
        "id": "npy2GLk39Dnz"
      },
      "execution_count": null,
      "outputs": []
    }
  ]
}